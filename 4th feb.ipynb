{
 "cells": [
  {
   "cell_type": "markdown",
   "id": "8622e89a-c32d-4575-b78e-b0c1685c176c",
   "metadata": {},
   "source": [
    "# 4th feb assignment\n"
   ]
  },
  {
   "cell_type": "code",
   "execution_count": null,
   "id": "b424b0ae-f3d5-4880-b1ec-511dde9ad907",
   "metadata": {},
   "outputs": [],
   "source": []
  },
  {
   "cell_type": "markdown",
   "id": "d478c59d-4117-4742-9586-3658651ac536",
   "metadata": {},
   "source": [
    "### 1.create a python program to sort the given list of tuples based on integer value using a lambda function.\n",
    "[('sachin tendulkar',34357),('ricky ponting',27483),('jack kallis',25534),('virat kohli',24936)]"
   ]
  },
  {
   "cell_type": "markdown",
   "id": "748cd4d2-2884-4e6b-9591-2276d6e4004c",
   "metadata": {},
   "source": [
    "## ans:-"
   ]
  },
  {
   "cell_type": "code",
   "execution_count": 1,
   "id": "f663f4ca-94d6-4a3c-9dd3-2343788a42be",
   "metadata": {},
   "outputs": [
    {
     "name": "stdout",
     "output_type": "stream",
     "text": [
      "('virat kohli', 24936)\n",
      "('jack kallis', 25534)\n",
      "('ricky ponting', 27483)\n",
      "('sachin tendulkar', 34357)\n"
     ]
    }
   ],
   "source": [
    "\n",
    "tuples_list = [('sachin tendulkar',34357),('ricky ponting',27483),('jack kallis',25534),('virat kohli',24936)]\n",
    "\n",
    "sorted_tuples = sorted(tuples_list, key=lambda x: x[1])\n",
    "\n",
    "for tuple_item in sorted_tuples:\n",
    "    print(tuple_item)\n"
   ]
  },
  {
   "cell_type": "code",
   "execution_count": null,
   "id": "eb04a8e5-5b69-4acf-98c2-6cc5150438ed",
   "metadata": {},
   "outputs": [],
   "source": []
  },
  {
   "cell_type": "markdown",
   "id": "ea5c5d4d-26d8-4192-ad09-67a76c6c4348",
   "metadata": {},
   "source": [
    "## 2 . write a python program to find the squares of all the numbers in the given list of integers using lamda and map functions.\n",
    "[1,2,3,4,5,6,7,8,9,10]"
   ]
  },
  {
   "cell_type": "markdown",
   "id": "4ee9b5d5-fdd7-4eed-bcb0-c3cd81c2ba2d",
   "metadata": {},
   "source": [
    "## ans:-"
   ]
  },
  {
   "cell_type": "code",
   "execution_count": 2,
   "id": "cd54ff91-6546-49c7-8c1e-bc23463c0250",
   "metadata": {},
   "outputs": [
    {
     "data": {
      "text/plain": [
       "[1, 4, 9, 16, 25, 36, 49, 64, 81, 100]"
      ]
     },
     "execution_count": 2,
     "metadata": {},
     "output_type": "execute_result"
    }
   ],
   "source": [
    "l=[1,2,3,4,5,6,7,8,9,10]\n",
    "list(map(lambda x : x**2,l))"
   ]
  },
  {
   "cell_type": "code",
   "execution_count": null,
   "id": "a1eb9266-aeba-47b1-a3d7-eea7cdbbdce1",
   "metadata": {},
   "outputs": [],
   "source": []
  },
  {
   "cell_type": "markdown",
   "id": "bed6d14d-52a0-4117-b515-84025d25faf6",
   "metadata": {},
   "source": [
    "## 3. write a python program to convert the given list of integers into tuple of strings . use map and lambda functions.\n",
    "given string : [1,2,3,4,5,6,7,8,9,10]"
   ]
  },
  {
   "cell_type": "markdown",
   "id": "de4f345c-3602-46db-955b-9c12f2550306",
   "metadata": {},
   "source": [
    "## ans:-"
   ]
  },
  {
   "cell_type": "code",
   "execution_count": 4,
   "id": "14886405-334b-49a5-b52a-0268445029ec",
   "metadata": {},
   "outputs": [
    {
     "data": {
      "text/plain": [
       "('1', '2', '3', '4', '5', '6', '7', '8', '9', '10')"
      ]
     },
     "execution_count": 4,
     "metadata": {},
     "output_type": "execute_result"
    }
   ],
   "source": [
    "numbers = [1,2,3,4,5,6,7,8,9,10]\n",
    "tuple(map(lambda x: str(x), numbers))"
   ]
  },
  {
   "cell_type": "code",
   "execution_count": null,
   "id": "c21c66b7-e10a-4364-9309-bbae7d1c3abd",
   "metadata": {},
   "outputs": [],
   "source": []
  },
  {
   "cell_type": "markdown",
   "id": "da4453a1-8379-411b-a675-d1cce240342e",
   "metadata": {},
   "source": [
    " ## 4 .write a python program using reduce function to compute the product of a list containing numbers from 1 to 25."
   ]
  },
  {
   "cell_type": "markdown",
   "id": "795fa9ac-170a-4060-89c4-12e514c7538a",
   "metadata": {},
   "source": [
    "## ans:-"
   ]
  },
  {
   "cell_type": "code",
   "execution_count": 5,
   "id": "4866fc49-92e8-44b7-9a9a-5b7935ede051",
   "metadata": {},
   "outputs": [
    {
     "data": {
      "text/plain": [
       "15511210043330985984000000"
      ]
     },
     "execution_count": 5,
     "metadata": {},
     "output_type": "execute_result"
    }
   ],
   "source": [
    "from functools import reduce\n",
    "numbers = list(range(1, 26))\n",
    "reduce(lambda x, y: x * y, numbers)"
   ]
  },
  {
   "cell_type": "code",
   "execution_count": null,
   "id": "6d22672f-2319-47c6-8adb-1181fc64ec60",
   "metadata": {},
   "outputs": [],
   "source": []
  },
  {
   "cell_type": "markdown",
   "id": "63691fc5-9da3-4316-8772-eadeb19e5968",
   "metadata": {},
   "source": [
    "## 5. Write a python program to filter the numbers in a given list that are divisible by 2 and 3 using the filter function.\n",
    "[2,3,6,9,27,60,90,120,55,46]"
   ]
  },
  {
   "cell_type": "code",
   "execution_count": 10,
   "id": "3647eb64-ff3d-4395-b44c-2cfaeecce6c5",
   "metadata": {},
   "outputs": [
    {
     "data": {
      "text/plain": [
       "[6, 60, 90, 120]"
      ]
     },
     "execution_count": 10,
     "metadata": {},
     "output_type": "execute_result"
    }
   ],
   "source": [
    "l= [2,3,6,9,27,60,90,120,55,46]\n",
    "list(filter(lambda x: x % 2 == 0 and x % 3 == 0, l))"
   ]
  },
  {
   "cell_type": "code",
   "execution_count": null,
   "id": "ad8e8b59-339c-4233-a8fc-7048978931d2",
   "metadata": {},
   "outputs": [],
   "source": []
  },
  {
   "cell_type": "markdown",
   "id": "785e66e5-651a-4cec-90a4-7022d46c16fd",
   "metadata": {},
   "source": [
    "## 6 . write a python program to find palindromes in the given list of strings using lambda and filter function.\n",
    "['python','php','aba','radar','level']"
   ]
  },
  {
   "cell_type": "code",
   "execution_count": 12,
   "id": "ecede711-f277-476a-8c7b-7b54d743d6f8",
   "metadata": {},
   "outputs": [
    {
     "data": {
      "text/plain": [
       "['php', 'aba', 'radar', 'level']"
      ]
     },
     "execution_count": 12,
     "metadata": {},
     "output_type": "execute_result"
    }
   ],
   "source": [
    "str1 = ['python', 'php', 'aba', 'radar', 'level']\n",
    "list(filter( lambda x: x == x[::-1], str1))\n",
    "\n"
   ]
  },
  {
   "cell_type": "code",
   "execution_count": null,
   "id": "053e70a2-1deb-43da-9fa0-1bbf10d3878e",
   "metadata": {},
   "outputs": [],
   "source": []
  }
 ],
 "metadata": {
  "kernelspec": {
   "display_name": "Python 3 (ipykernel)",
   "language": "python",
   "name": "python3"
  },
  "language_info": {
   "codemirror_mode": {
    "name": "ipython",
    "version": 3
   },
   "file_extension": ".py",
   "mimetype": "text/x-python",
   "name": "python",
   "nbconvert_exporter": "python",
   "pygments_lexer": "ipython3",
   "version": "3.10.8"
  }
 },
 "nbformat": 4,
 "nbformat_minor": 5
}
