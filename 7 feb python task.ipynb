{
 "cells": [
  {
   "cell_type": "markdown",
   "id": "bfb4d50a-6b48-4238-bce6-0f43e896b355",
   "metadata": {},
   "source": [
    "# 7th feb python task"
   ]
  },
  {
   "cell_type": "code",
   "execution_count": null,
   "id": "fb5a8116-fd32-47ec-8def-19dbdec31f1f",
   "metadata": {},
   "outputs": [],
   "source": []
  },
  {
   "cell_type": "markdown",
   "id": "85abc9a5-5796-4d2c-9f26-d172ae2a3129",
   "metadata": {},
   "source": [
    "## Q1 ANS:-"
   ]
  },
  {
   "cell_type": "code",
   "execution_count": 1,
   "id": "9f894156-29e3-413b-8503-062535ee4c77",
   "metadata": {},
   "outputs": [],
   "source": [
    "def check_password(password):\n",
    "    # Check length of password\n",
    "    if len(password) != 10:\n",
    "        return \"Invalid Password\"\n",
    "    \n",
    "    # Count uppercase and lowercase letters\n",
    "    uppercase_count = 0\n",
    "    lowercase_count = 0\n",
    "    for char in password:\n",
    "        if char.isupper():\n",
    "            uppercase_count += 1\n",
    "        elif char.islower():\n",
    "            lowercase_count += 1\n",
    "    \n",
    "    # Check uppercase and lowercase count\n",
    "    if uppercase_count < 2 or lowercase_count < 2:\n",
    "        return \"Invalid Password\"\n",
    "    \n",
    "    # Check for at least one number and three special characters\n",
    "    special_count = 0\n",
    "    number_count = 0\n",
    "    special_characters = ['!', '@', '#', '$', '%', '&', '*', '(', ')', '-', '+']\n",
    "    for char in password:\n",
    "        if char.isdigit():\n",
    "            number_count += 1\n",
    "        elif char in special_characters:\n",
    "            special_count += 1\n",
    "    \n",
    "    # Check number and special character count\n",
    "    if number_count < 1 or special_count < 3:\n",
    "        return \"Invalid Password\"\n",
    "    \n",
    "    # If all requirements are met, return \"Valid Password\"\n",
    "    return \"Valid Password\"\n"
   ]
  },
  {
   "cell_type": "code",
   "execution_count": 2,
   "id": "9564e009-3d2e-40cb-af29-f87467511248",
   "metadata": {},
   "outputs": [
    {
     "name": "stdout",
     "output_type": "stream",
     "text": [
      "Valid Password\n",
      "Invalid Password\n",
      "Invalid Password\n"
     ]
    }
   ],
   "source": [
    "password1 = \"ABcd@@@123\"\n",
    "password2 = \"abcd@efghijkl\"\n",
    "password3 = \"Abc@123\"\n",
    "print(check_password(password1))  # Output: \"Valid Password\"\n",
    "print(check_password(password2))  # Output: \"Invalid Password\"\n",
    "print(check_password(password3))  # Output: \"Invalid Password\"\n"
   ]
  },
  {
   "cell_type": "code",
   "execution_count": null,
   "id": "5ab5fe15-af80-47ea-8ad8-86aeb1ed53e5",
   "metadata": {},
   "outputs": [],
   "source": []
  },
  {
   "cell_type": "markdown",
   "id": "5574deaa-8029-4b35-b6e2-67f573c0a2dd",
   "metadata": {},
   "source": [
    "## Q2 ANS:-"
   ]
  },
  {
   "cell_type": "code",
   "execution_count": null,
   "id": "f492b7cc-6833-4c5a-82b0-927a230656fd",
   "metadata": {},
   "outputs": [],
   "source": []
  },
  {
   "cell_type": "markdown",
   "id": "6c2a6724-1ae0-4659-9e9b-703b8e149c1d",
   "metadata": {},
   "source": [
    "### Check if the string starts with a particular letter."
   ]
  },
  {
   "cell_type": "code",
   "execution_count": 3,
   "id": "e0f03e3d-292f-49b5-afce-780a885c56e5",
   "metadata": {},
   "outputs": [
    {
     "name": "stdout",
     "output_type": "stream",
     "text": [
      "[False, True, False, True]\n"
     ]
    }
   ],
   "source": [
    "# Using List Comprehension\n",
    "strings = [\"apple\", \"banana\", \"cherry\", \"butter\"]\n",
    "letter = \"b\"\n",
    "result = [True if string.startswith(letter) else False for string in strings]\n",
    "print(result)\n"
   ]
  },
  {
   "cell_type": "markdown",
   "id": "3ee5e107-7001-4d07-b388-52d83b35393e",
   "metadata": {},
   "source": [
    "### Check if the string is numeric."
   ]
  },
  {
   "cell_type": "code",
   "execution_count": 4,
   "id": "33c21b4c-7739-4059-881d-d36dcfc38e59",
   "metadata": {},
   "outputs": [
    {
     "data": {
      "text/plain": [
       "[True, False, True, True]"
      ]
     },
     "execution_count": 4,
     "metadata": {},
     "output_type": "execute_result"
    }
   ],
   "source": [
    "# Using Lambda function and isnumeric()\n",
    "strings = [\"123\", \"hello\", \"456\", \"789\"]\n",
    "list(map(lambda x: x.isnumeric(), strings))\n"
   ]
  },
  {
   "cell_type": "markdown",
   "id": "d54eac22-1863-4b61-85e0-712c8a1004e8",
   "metadata": {},
   "source": [
    "### Sort a list of tuples having fruit names and their quantity. [(\"mango\",99),(\"orange\",80), (\"grapes\", 1000)]"
   ]
  },
  {
   "cell_type": "code",
   "execution_count": 5,
   "id": "60001af0-68ba-4e44-b17e-b00ff57aa0a5",
   "metadata": {},
   "outputs": [
    {
     "name": "stdout",
     "output_type": "stream",
     "text": [
      "[('grapes', 1000), ('mango', 99), ('orange', 80)]\n"
     ]
    }
   ],
   "source": [
    "# Using Lambda function and sorted()\n",
    "fruits = [(\"mango\", 99), (\"orange\", 80), (\"grapes\", 1000)]\n",
    "result = sorted(fruits, key=lambda x: x[0])\n",
    "print(result)"
   ]
  },
  {
   "cell_type": "markdown",
   "id": "d787fa88-a564-4bbc-a066-d54687208a46",
   "metadata": {},
   "source": [
    "### Find the squares of numbers from 1 to 10"
   ]
  },
  {
   "cell_type": "code",
   "execution_count": 6,
   "id": "5c618dd1-b95a-46ff-8465-d367d2311b8f",
   "metadata": {},
   "outputs": [
    {
     "name": "stdout",
     "output_type": "stream",
     "text": [
      "[1, 4, 9, 16, 25, 36, 49, 64, 81, 100]\n"
     ]
    }
   ],
   "source": [
    "# Using List Comprehension\n",
    "squares = [x**2 for x in range(1, 11)]\n",
    "print(squares)\n"
   ]
  },
  {
   "cell_type": "markdown",
   "id": "1bd02c31-a411-45d5-a979-b4970f1c990f",
   "metadata": {},
   "source": [
    "### Find the cube root of numbers from 1 to 10."
   ]
  },
  {
   "cell_type": "code",
   "execution_count": 7,
   "id": "2d843cf0-2524-4791-bf5c-6455e6a2f998",
   "metadata": {},
   "outputs": [
    {
     "data": {
      "text/plain": [
       "[1.0, 1.26, 1.44, 1.59, 1.71, 1.82, 1.91, 2.0, 2.08, 2.15]"
      ]
     },
     "execution_count": 7,
     "metadata": {},
     "output_type": "execute_result"
    }
   ],
   "source": [
    "# Using Lambda function and List Comprehension\n",
    "import math\n",
    "list(map(lambda x: round(math.pow(x, 1/3), 2), range(1, 11)))"
   ]
  },
  {
   "cell_type": "markdown",
   "id": "810e8547-c743-4d72-9a67-8f9a49e03089",
   "metadata": {},
   "source": [
    "### Check if a given number is even."
   ]
  },
  {
   "cell_type": "code",
   "execution_count": 8,
   "id": "cb024336-acec-44ca-8718-6d732b025a56",
   "metadata": {},
   "outputs": [
    {
     "name": "stdout",
     "output_type": "stream",
     "text": [
      "False\n"
     ]
    }
   ],
   "source": [
    "# Using Lambda function and modulo operator\n",
    "is_even = lambda x: x % 2 == 0\n",
    "number = 7\n",
    "result = is_even(number)\n",
    "print(result)\n"
   ]
  },
  {
   "cell_type": "markdown",
   "id": "bfc3de79-2830-4b36-a7c8-cd2408766724",
   "metadata": {},
   "source": [
    "### Filter odd numbers from the given list.\n",
    "[1,2,3,4,5,6,7,8,9,10-"
   ]
  },
  {
   "cell_type": "code",
   "execution_count": 9,
   "id": "63f7d751-f2dd-41bc-ba26-bd654bae04a1",
   "metadata": {},
   "outputs": [
    {
     "name": "stdout",
     "output_type": "stream",
     "text": [
      "[1, 3, 5, 7, 9]\n"
     ]
    }
   ],
   "source": [
    "# Using Filter function and Lambda function\n",
    "numbers = [1, 2, 3, 4, 5, 6, 7, 8, 9, 10]\n",
    "filtered_numbers = list(filter(lambda x: x % 2 != 0, numbers))\n",
    "print(filtered_numbers)\n"
   ]
  },
  {
   "cell_type": "markdown",
   "id": "802eb315-38be-4bfd-8b2b-34558c4d3c07",
   "metadata": {},
   "source": [
    "### Sort a list of integers into positive and negative integers lists.\n",
    "[1,2,3,4,5,6,-1,-2,-3,-4,-5,0]"
   ]
  },
  {
   "cell_type": "code",
   "execution_count": 10,
   "id": "b8323aed-7279-48e7-97e2-c8c4bc05f363",
   "metadata": {},
   "outputs": [
    {
     "name": "stdout",
     "output_type": "stream",
     "text": [
      "Positive numbers: [1, 2, 3, 4, 5, 6]\n",
      "Negative numbers: [-1, -2, -3, -4, -5]\n"
     ]
    }
   ],
   "source": [
    "# Using List Comprehension\n",
    "numbers = [1, 2, 3, 4, 5, 6, -1, -2, -3, -4, -5, 0]\n",
    "positive_numbers = [x for x in numbers if x > 0]\n",
    "negative_numbers = [x for x in numbers if x < 0]\n",
    "print(\"Positive numbers:\", positive_numbers)\n",
    "print(\"Negative numbers:\", negative_numbers)\n"
   ]
  },
  {
   "cell_type": "code",
   "execution_count": null,
   "id": "51dcc1fe-6e66-4473-a1f7-b32f0c6a1af4",
   "metadata": {},
   "outputs": [],
   "source": []
  }
 ],
 "metadata": {
  "kernelspec": {
   "display_name": "Python 3 (ipykernel)",
   "language": "python",
   "name": "python3"
  },
  "language_info": {
   "codemirror_mode": {
    "name": "ipython",
    "version": 3
   },
   "file_extension": ".py",
   "mimetype": "text/x-python",
   "name": "python",
   "nbconvert_exporter": "python",
   "pygments_lexer": "ipython3",
   "version": "3.10.8"
  }
 },
 "nbformat": 4,
 "nbformat_minor": 5
}
