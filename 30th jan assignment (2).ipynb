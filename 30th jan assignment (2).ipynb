{
 "cells": [
  {
   "cell_type": "markdown",
   "id": "174badc8-c639-4c43-b2ce-97c8c7b3b9ac",
   "metadata": {},
   "source": [
    " # 30th january assignment"
   ]
  },
  {
   "cell_type": "markdown",
   "id": "f91ae928-1783-43e8-9c6b-89435f5b9861",
   "metadata": {},
   "source": [
    "### 1. write a program to accept percentage from the user and display the grade according to the following criteria:\n",
    "         \n",
    "        marks              grade\n",
    "        \n",
    "        >90                  A\n",
    "        >80 and <=90         B\n",
    "        >=60 and <=80        C\n",
    "        below 60             D"
   ]
  },
  {
   "cell_type": "code",
   "execution_count": 2,
   "id": "ea81b2df-262e-40e3-8bca-712e6368aca5",
   "metadata": {},
   "outputs": [
    {
     "name": "stdin",
     "output_type": "stream",
     "text": [
      "Enter your percentage:  90\n"
     ]
    },
    {
     "name": "stdout",
     "output_type": "stream",
     "text": [
      "Your grade is: B\n"
     ]
    }
   ],
   "source": [
    "# code for first program\n",
    "percentage = float(input(\"Enter your percentage: \"))\n",
    "\n",
    "if percentage > 90:\n",
    "    grade = \"A\"\n",
    "elif percentage > 80:\n",
    "    grade = \"B\"\n",
    "elif percentage >= 60:\n",
    "    grade = \"C\"\n",
    "else:\n",
    "    grade = \"D\"\n",
    "\n",
    "print(\"Your grade is:\", grade)\n"
   ]
  },
  {
   "cell_type": "code",
   "execution_count": null,
   "id": "0ab92d22-5b47-4a17-b63d-8f7932067869",
   "metadata": {},
   "outputs": [],
   "source": []
  },
  {
   "cell_type": "markdown",
   "id": "5371290b-0f58-48e5-8a13-607e0922948b",
   "metadata": {},
   "source": [
    "### 2. write a program to accept the cost price of a bike and display the road tax to be paid according to the following criteria:\n",
    "    \n",
    "              Tax                Cost Price(in Rs)\n",
    "        \n",
    "               15%                 >100000\n",
    "               10%                 >50000 and <= 100000\n",
    "                5%                 <=50000"
   ]
  },
  {
   "cell_type": "code",
   "execution_count": 6,
   "id": "99f3af83-f995-43ff-a379-4a3ddfa7ef6a",
   "metadata": {},
   "outputs": [
    {
     "name": "stdin",
     "output_type": "stream",
     "text": [
      "Enter the cost price of the bike (in Rs):  70000\n"
     ]
    },
    {
     "name": "stdout",
     "output_type": "stream",
     "text": [
      "The road tax is 10%\n",
      "The road tax to be paid is: Rs 7000.0\n"
     ]
    }
   ],
   "source": [
    " # code for second program:-\n",
    " cost_price = float(input(\"Enter the cost price of the bike (in Rs): \"))\n",
    "\n",
    "if cost_price > 100000:\n",
    "    print(\"The road tax is 15%\")\n",
    "    road_tax = cost_price * 0.15\n",
    "elif cost_price > 50000 and cost_price<=100000:\n",
    "    print(\"The road tax is 10%\")\n",
    "    road_tax = cost_price * 0.10\n",
    "else:\n",
    "    print(\"The road tax is 5%\")\n",
    "    road_tax = cost_price * 0.05\n",
    "\n",
    "print(\"The road tax to be paid is: Rs\", road_tax)\n"
   ]
  },
  {
   "cell_type": "code",
   "execution_count": null,
   "id": "30612542-f81f-4477-980e-8b63e572a089",
   "metadata": {},
   "outputs": [],
   "source": []
  },
  {
   "cell_type": "markdown",
   "id": "620d7274-13ee-498d-8e04-80c86f062bb4",
   "metadata": {},
   "source": [
    "### 3. Accept anycity from the user and display monuments of that city:\n",
    "      \n",
    "        city            monument\n",
    "        \n",
    "        Delhi            Red Fort\n",
    "        Agra             Taj Mahal\n",
    "        Jaipur           Jal mahal"
   ]
  },
  {
   "cell_type": "code",
   "execution_count": 8,
   "id": "28dc6e96-3db3-4ef4-8eb0-e2f1f68587a2",
   "metadata": {},
   "outputs": [
    {
     "name": "stdin",
     "output_type": "stream",
     "text": [
      "Enter the name of the city:  Jaipur\n"
     ]
    },
    {
     "name": "stdout",
     "output_type": "stream",
     "text": [
      "The monument of Jaipur is: Jal Mahal\n"
     ]
    }
   ],
   "source": [
    " # code for third program:-\n",
    " city = input(\"Enter the name of the city: \")\n",
    "\n",
    "if city == \"Delhi\":\n",
    "    monument = \"Red Fort\"\n",
    "elif city == \"Agra\":\n",
    "    monument = \"Taj Mahal\"\n",
    "elif city == \"Jaipur\":\n",
    "    monument = \"Jal Mahal\"\n",
    "else:\n",
    "    monument = \"Monument not found for this city\"\n",
    "\n",
    "print(\"The monument of\", city, \"is:\", monument)\n"
   ]
  },
  {
   "cell_type": "code",
   "execution_count": null,
   "id": "da25a5f8-aab9-4ae8-9681-de3b6a3f2e40",
   "metadata": {},
   "outputs": [],
   "source": []
  },
  {
   "cell_type": "markdown",
   "id": "b439872a-f9db-4258-8bfe-5f9696c4f1d5",
   "metadata": {},
   "source": [
    "### 4. Check how many times a given number can be divided by 3 before it is less than or equal to 10."
   ]
  },
  {
   "cell_type": "code",
   "execution_count": 14,
   "id": "d419e9d2-83b5-4668-85dd-4c8c2a9b11a9",
   "metadata": {},
   "outputs": [
    {
     "name": "stdin",
     "output_type": "stream",
     "text": [
      "Enter a number:  700\n"
     ]
    },
    {
     "name": "stdout",
     "output_type": "stream",
     "text": [
      "The number can be divided by 3 -  4 times before it is less than or equal to 10.\n"
     ]
    }
   ],
   "source": [
    "# 4th question answer:-\n",
    "num = int(input(\"Enter a number: \"))\n",
    "count = 0\n",
    "\n",
    "while num > 10:\n",
    "    num = num // 3\n",
    "    count += 1\n",
    "\n",
    "print(\"The number can be divided by 3 - \", count, \"times before it is less than or equal to 10.\")\n"
   ]
  },
  {
   "cell_type": "code",
   "execution_count": null,
   "id": "6fe1423d-3f07-41b5-b74f-95793af07313",
   "metadata": {},
   "outputs": [],
   "source": []
  },
  {
   "cell_type": "markdown",
   "id": "088c8bd1-0d7b-478b-848b-596d6ef91fd7",
   "metadata": {},
   "source": [
    "### 5. why and when to use while loop in python give a detailed description with example."
   ]
  },
  {
   "cell_type": "markdown",
   "id": "3e3ec45c-8ec6-4f55-acce-2977d4a67a71",
   "metadata": {},
   "source": [
    " ### 5th question answer :-\n",
    " \n",
    " ####       In Python, a \"while\" loop is used to repeatedly execute a block of code as long as a certain condition is true. The loop continues to execute as long as the condition remains true and stops when the condition becomes false. The while loop is useful when we don't know the exact number of times we need to execute the block of code, but we know the condition that needs to be met.\n",
    "        \n",
    "      Here's an example of a while loop in Python that adds numbers entered by the user until the user enters a negative number:\n",
    "      \n",
    "sum = 0\n",
    "num = int(input(\"Enter a number: \"))\n",
    "\n",
    "while num >= 0:\n",
    "    sum += num\n",
    "    num = int(input(\"Enter a number: \"))\n",
    "\n",
    "print(\"The sum of the numbers entered is:\", sum)\n",
    "\n",
    "      "
   ]
  },
  {
   "cell_type": "code",
   "execution_count": null,
   "id": "a225d7fa-3201-4eb3-93ab-0f19edb2234c",
   "metadata": {},
   "outputs": [],
   "source": []
  },
  {
   "cell_type": "markdown",
   "id": "6b56c82f-4a39-4245-b4d4-019db5b3daa9",
   "metadata": {},
   "source": [
    "### 6. Use nested while loop to print 3 different patterns."
   ]
  },
  {
   "cell_type": "code",
   "execution_count": 16,
   "id": "7907c79e-25a4-4adc-bc3a-2ae298965b30",
   "metadata": {},
   "outputs": [
    {
     "name": "stdout",
     "output_type": "stream",
     "text": [
      "*\n",
      "**\n",
      "***\n",
      "****\n",
      "*****\n"
     ]
    }
   ],
   "source": [
    "# code for 6th program:-\n",
    "# 1st pattern(Right triangle Pattern)\n",
    "i = 1\n",
    "while i <= 5:\n",
    "    j = 1\n",
    "    while j <= i:\n",
    "        print(\"*\", end=\"\")\n",
    "        j += 1\n",
    "    print()\n",
    "    i += 1\n"
   ]
  },
  {
   "cell_type": "code",
   "execution_count": 17,
   "id": "07d81368-36e2-4a86-bb66-6263c4f9cb3e",
   "metadata": {},
   "outputs": [
    {
     "name": "stdout",
     "output_type": "stream",
     "text": [
      "*****\n",
      "****\n",
      "***\n",
      "**\n",
      "*\n"
     ]
    }
   ],
   "source": [
    "# 2nd patter(Inverted right traingle)\n",
    "i = 5\n",
    "while i >= 1:\n",
    "    j = 1\n",
    "    while j <= i:\n",
    "        print(\"*\", end=\"\")\n",
    "        j += 1\n",
    "    print()\n",
    "    i -= 1\n"
   ]
  },
  {
   "cell_type": "code",
   "execution_count": 18,
   "id": "f38bb83c-3220-40c9-bb22-cf4bee0acc9e",
   "metadata": {},
   "outputs": [
    {
     "name": "stdout",
     "output_type": "stream",
     "text": [
      "  *\n",
      " ***\n",
      "*****\n",
      " ***\n",
      "  *\n"
     ]
    }
   ],
   "source": [
    "#3rd pattern (Diamond)\n",
    "i = 1\n",
    "while i <= 3:\n",
    "    j = 1\n",
    "    while j <= 3-i:\n",
    "        print(\" \", end=\"\")\n",
    "        j += 1\n",
    "    k = 1\n",
    "    while k <= 2*i-1:\n",
    "        print(\"*\", end=\"\")\n",
    "        k += 1\n",
    "    print()\n",
    "    i += 1\n",
    "\n",
    "i = 2\n",
    "while i >= 1:\n",
    "    j = 1\n",
    "    while j <= 3-i:\n",
    "        print(\" \", end=\"\")\n",
    "        j += 1\n",
    "    k = 1\n",
    "    while k <= 2*i-1:\n",
    "        print(\"*\", end=\"\")\n",
    "        k += 1\n",
    "    print()\n",
    "    i -= 1\n"
   ]
  },
  {
   "cell_type": "code",
   "execution_count": null,
   "id": "7b8d8b27-abe5-4ef3-ba00-14eee2222043",
   "metadata": {},
   "outputs": [],
   "source": []
  },
  {
   "cell_type": "markdown",
   "id": "bed34c10-204d-45d0-9c03-1655faeb5524",
   "metadata": {},
   "source": [
    "### 7. Reverse a while loop to display numbers from 10 to 1."
   ]
  },
  {
   "cell_type": "code",
   "execution_count": 19,
   "id": "5da8c1ce-b6a9-489f-8934-b2f34f89df02",
   "metadata": {},
   "outputs": [
    {
     "name": "stdout",
     "output_type": "stream",
     "text": [
      "10\n",
      "9\n",
      "8\n",
      "7\n",
      "6\n",
      "5\n",
      "4\n",
      "3\n",
      "2\n",
      "1\n"
     ]
    }
   ],
   "source": [
    "# code for 7th program:- \n",
    "i = 10\n",
    "while i >= 1:\n",
    "    print(i)\n",
    "    i -= 1\n"
   ]
  },
  {
   "cell_type": "code",
   "execution_count": null,
   "id": "58b4cc74-20ed-412d-b181-2690896e89cd",
   "metadata": {},
   "outputs": [],
   "source": []
  },
  {
   "cell_type": "markdown",
   "id": "13ccf66d-46f1-47b3-9796-114e7338b62f",
   "metadata": {},
   "source": [
    "### 8. Reverse a while loop to display numbers from 10 to 1."
   ]
  },
  {
   "cell_type": "code",
   "execution_count": 21,
   "id": "60014fdc-a427-4d61-a542-0098492c10a2",
   "metadata": {},
   "outputs": [
    {
     "name": "stdout",
     "output_type": "stream",
     "text": [
      "10\n",
      "9\n",
      "8\n",
      "7\n",
      "6\n",
      "5\n",
      "4\n",
      "3\n",
      "2\n",
      "1\n"
     ]
    }
   ],
   "source": [
    "i = 10\n",
    "while i >= 1:\n",
    "    print(i)\n",
    "    i -= 1"
   ]
  },
  {
   "cell_type": "code",
   "execution_count": null,
   "id": "e23a9844-85e8-45fa-a8c3-35ea0e3490a2",
   "metadata": {},
   "outputs": [],
   "source": []
  }
 ],
 "metadata": {
  "kernelspec": {
   "display_name": "Python 3 (ipykernel)",
   "language": "python",
   "name": "python3"
  },
  "language_info": {
   "codemirror_mode": {
    "name": "ipython",
    "version": 3
   },
   "file_extension": ".py",
   "mimetype": "text/x-python",
   "name": "python",
   "nbconvert_exporter": "python",
   "pygments_lexer": "ipython3",
   "version": "3.10.8"
  }
 },
 "nbformat": 4,
 "nbformat_minor": 5
}
