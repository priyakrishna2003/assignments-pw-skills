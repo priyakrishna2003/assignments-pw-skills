{
 "cells": [
  {
   "cell_type": "markdown",
   "id": "ae23cbaf-5adb-4df8-8ef7-3c537a5ec1e8",
   "metadata": {},
   "source": [
    "### 1. Which keyword is used to create a function? create a function to return a list of odd numbers in the range of 1 to 25."
   ]
  },
  {
   "cell_type": "markdown",
   "id": "9f55bc55-904e-4bb0-a86d-ca00061e413e",
   "metadata": {},
   "source": [
    "#### Answer:-\n",
    "* The keyword used to create a function in Python is \"def\". Here's an example function that returns a list of odd numbers in the range of 1 to 25:\n",
    "  \n",
    "   def odd_numbers():\n",
    "    \n",
    "    return [num for num in range(1, 26) if num % 2 != 0]\n",
    "    \n",
    "* This function uses a list comprehension to generate a list of odd numbers between 1 and 25. When you call this function using odd_numbers(), it will return the list [1, 3, 5, 7, 9, 11, 13, 15, 17, 19, 21, 23, 25].\n"
   ]
  },
  {
   "cell_type": "code",
   "execution_count": null,
   "id": "b4e8115a-541f-4860-8b6f-90982319388e",
   "metadata": {},
   "outputs": [],
   "source": []
  },
  {
   "cell_type": "markdown",
   "id": "92f67a8e-fe21-42b5-bcc1-9b9851f13d7d",
   "metadata": {},
   "source": [
    "### 2. why *args and **kwargs is used in some functions? Create a function each for *args and **kwargs to demonstrate their use."
   ]
  },
  {
   "cell_type": "markdown",
   "id": "a31f6295-dad7-4245-a4f6-898e90fd735d",
   "metadata": {},
   "source": [
    "### Answer:-\n",
    "   *  The *args and **kwargs are used in Python functions to pass a variable number of arguments to the function.\n",
    "\n",
    "* *args allows you to pass a variable number of arguments to a function. These arguments are passed as a tuple.\n",
    "\n",
    "* **kwargs allows you to pass a variable number of keyword arguments to a function. These arguments are passed as a dictionary.\n",
    "\n",
    "* Here's an example of how *args can be used in a function:\n",
    "\n",
    "\n",
    "def sum(*args):\n",
    "\n",
    "    total = 0\n",
    "    \n",
    "    for num in args:\n",
    "    \n",
    "    total += num\n",
    "    \n",
    "    return total\n",
    "\n",
    "\n",
    "result = sum(1, 2, 3, 4, 5)\n",
    "\n",
    "print(result) # Output: 15\n",
    "\n",
    "* Here's an example of how **kwargs can be used in a function:\n",
    "\n",
    "def print_info(**kwargs):\n",
    "    \n",
    "    for key, value in kwargs.items():\n",
    "    \n",
    "    print(f'{key}: {value}')\n",
    "\n",
    "\n",
    "    print_info(name='John', age=30, location='New York')\n",
    "\n",
    "    * Note that the **kwargs syntax is used when you don't know how many keyword arguments will be passed to the function, whereas *args is used when you don't know how many positional arguments will be passed to the function.\n",
    "\n"
   ]
  },
  {
   "cell_type": "code",
   "execution_count": null,
   "id": "e5b7345c-4a1a-42f6-b140-cf99e02518bd",
   "metadata": {},
   "outputs": [],
   "source": []
  },
  {
   "cell_type": "markdown",
   "id": "c767e0c2-a741-4c4d-93e4-70a0e85e3aea",
   "metadata": {},
   "source": [
    "### 3. What is an iterator in python? Name the method used to intialize the iterator object and the method used for iteration. use these methods to print the first five elements of the given list[2,4,6,8,10,12,14,16,18,20]."
   ]
  },
  {
   "cell_type": "markdown",
   "id": "6f31db7b-90bb-4960-80ef-09f4d2d41b97",
   "metadata": {
    "tags": []
   },
   "source": [
    "### Answer:-\n",
    "   \n",
    "* In Python, an iterator is an object that allows iteration over a collection of elements, such as a list or a tuple, one item at a time, without having to load the entire collection into memory.\n",
    "\n",
    "* To initialize an iterator object in Python, you can use the iter() method. To iterate through the elements of an iterator, you can use the next() method.\n",
    "\n",
    "* Here is an example code to print the first five elements of the given list using an iterator in Python:\n",
    "\n",
    "\n"
   ]
  },
  {
   "cell_type": "code",
   "execution_count": 1,
   "id": "f6847d72-1bfa-480a-ab6b-9dd56c6831c3",
   "metadata": {},
   "outputs": [
    {
     "name": "stdout",
     "output_type": "stream",
     "text": [
      "2\n",
      "4\n",
      "6\n",
      "8\n",
      "10\n"
     ]
    }
   ],
   "source": [
    "# code:-\n",
    "my_list = [2,4,6,8,10,12,14,16,18,20]\n",
    "\n",
    "# Initialize the iterator object\n",
    "my_iterator = iter(my_list)\n",
    "\n",
    "# Iterate through the first five elements of the list\n",
    "for i in range(5):\n",
    "    element = next(my_iterator)\n",
    "    print(element)\n"
   ]
  },
  {
   "cell_type": "code",
   "execution_count": null,
   "id": "ba869e01-f523-4a64-b56a-1c225cb9ae0c",
   "metadata": {},
   "outputs": [],
   "source": []
  },
  {
   "cell_type": "markdown",
   "id": "f4486b1d-4fcf-46cd-b7d5-e5017098a2ba",
   "metadata": {},
   "source": [
    "### 4. What is a generator  of function in python ? why yield keyword is used? give an example of a generator functoon."
   ]
  },
  {
   "cell_type": "markdown",
   "id": "513eec81-ad89-4580-9d79-e4810d20af1d",
   "metadata": {},
   "source": [
    "#### Answer:-\n",
    "* In Python, a generator function is a special type of function that uses the yield keyword instead of return to return a generator object.\n",
    "* The generator object can then be used to produce a sequence of values on-the-fly, rather than generating them all at once and storing them in memory.\n",
    "* When a generator function is called, it returns a generator object, which can be iterated over using a for loop or other iteration methods.\n",
    "* Each time the yield keyword is encountered in the generator function, the current value is returned, and the function's state is saved. \n",
    "* The next time the generator is called, the function picks up where it left off and continues executing until the next yield is encountered.\n",
    "\n",
    "* Here's an example of a generator function that generates a sequence of even numbers:\n",
    "\n",
    "def even_numbers(n):\n",
    "    \n",
    "    for i in range(n):\n",
    "    \n",
    "    if i % 2 == 0:\n",
    "    \n",
    "    yield i\n",
    "\n",
    "##### example usage\n",
    "\n",
    "even_nums = even_numbers(10)\n",
    "\n",
    "for num in even_nums:\n",
    "\n",
    "    print(num)\n"
   ]
  },
  {
   "cell_type": "code",
   "execution_count": null,
   "id": "b7c30956-bece-4b3a-ad2a-72d2600c5371",
   "metadata": {},
   "outputs": [],
   "source": []
  },
  {
   "cell_type": "markdown",
   "id": "dd4cd98c-339e-46b7-a473-7ba45f1fa981",
   "metadata": {},
   "source": [
    "### 5. Create a generator function for prime numbers less than 1000 .use the next() method to print the first 20 prime numbers."
   ]
  },
  {
   "cell_type": "code",
   "execution_count": 7,
   "id": "c8f7049a-7837-4745-bb90-f3e59cc9c1a1",
   "metadata": {},
   "outputs": [
    {
     "name": "stdout",
     "output_type": "stream",
     "text": [
      "2\n",
      "3\n",
      "5\n",
      "7\n",
      "11\n",
      "13\n",
      "17\n",
      "19\n",
      "23\n",
      "29\n",
      "31\n",
      "37\n",
      "41\n",
      "43\n",
      "47\n",
      "53\n",
      "59\n",
      "61\n",
      "67\n",
      "71\n"
     ]
    }
   ],
   "source": [
    "def primes():\n",
    "    yield 2\n",
    "    prime_list = [2]\n",
    "    num = 3\n",
    "    while num < 1000:\n",
    "        is_prime = True\n",
    "        for prime in prime_list:\n",
    "            if num % prime == 0:\n",
    "                is_prime = False\n",
    "                break\n",
    "        if is_prime:\n",
    "            yield num\n",
    "            prime_list.append(num)\n",
    "        num += 2\n",
    "prime_gen = primes()\n",
    "for i in range(20):\n",
    "    print(next(prime_gen))\n"
   ]
  },
  {
   "cell_type": "code",
   "execution_count": null,
   "id": "2564ebd6-633b-46cb-838b-29df51dfb25b",
   "metadata": {},
   "outputs": [],
   "source": []
  },
  {
   "cell_type": "code",
   "execution_count": null,
   "id": "82de2b5f-2211-4cc6-8c01-d774db2443ea",
   "metadata": {},
   "outputs": [],
   "source": []
  }
 ],
 "metadata": {
  "kernelspec": {
   "display_name": "Python 3 (ipykernel)",
   "language": "python",
   "name": "python3"
  },
  "language_info": {
   "codemirror_mode": {
    "name": "ipython",
    "version": 3
   },
   "file_extension": ".py",
   "mimetype": "text/x-python",
   "name": "python",
   "nbconvert_exporter": "python",
   "pygments_lexer": "ipython3",
   "version": "3.10.8"
  }
 },
 "nbformat": 4,
 "nbformat_minor": 5
}
