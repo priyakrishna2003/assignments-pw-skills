{
 "cells": [
  {
   "cell_type": "markdown",
   "id": "54997598-bb3a-4e8c-be6e-55c0badadc96",
   "metadata": {},
   "source": [
    "# 2nd january assignment"
   ]
  },
  {
   "cell_type": "code",
   "execution_count": null,
   "id": "c8f66c36-5ec1-4172-bf02-8acf0c15e15f",
   "metadata": {},
   "outputs": [],
   "source": []
  },
  {
   "cell_type": "markdown",
   "id": "5b881c0b-8186-4de3-9fd1-db292c4f026b",
   "metadata": {},
   "source": [
    "### 1.what are the characteristics of the tuples? is tuple immutable?"
   ]
  },
  {
   "cell_type": "markdown",
   "id": "0f70ab35-9134-4805-909f-104fbe324c9c",
   "metadata": {},
   "source": [
    "##### 1st question answer:-\n",
    "\n",
    "Yes, tuples are immutable in Python, which means their values cannot be changed once they are created.\n",
    "\n",
    " * Tuples are similar to lists, but there are some important differences. The main characteristics of tuples are:\n",
    "\n",
    "* Ordered: Like lists, tuples are ordered sequences of elements. This means that each element has a specific index that can be used to access it.\n",
    "\n",
    "* Immutable: As mentioned, tuples are immutable, which means that their values cannot be changed once they are created. This makes them useful for representing fixed collections of data.\n",
    "\n",
    "* Heterogeneous: Tuples can contain elements of different types, including other tuples. For example, a tuple might contain a string, an integer, and another tuple.\n",
    "\n",
    "* Indexed: Elements in a tuple are accessed using indexes, starting from 0. For example, in the tuple my_tuple = (1, 2, 3), the element 2 has index 1.\n",
    "\n",
    "* Nesting: Tuples can be nested, which means that a tuple can contain other tuples as elements.\n",
    "\n",
    "* Arbitrary length: Tuples can be of any length, depending on the number of elements they contain.\n",
    "\n",
    "Overall, tuples are a useful data structure for representing fixed collections of data that need to be accessed and processed in an ordered manner. Their immutability guarantees that the data remains unchanged, which can be important in certain situations.\n",
    "\n",
    "\n",
    "\n",
    "\n",
    "\n",
    "\n",
    "\n",
    "\n"
   ]
  },
  {
   "cell_type": "code",
   "execution_count": null,
   "id": "79c8f6f3-3d2f-40ce-b0e4-14ee687a830f",
   "metadata": {},
   "outputs": [],
   "source": []
  },
  {
   "cell_type": "markdown",
   "id": "2e8fc550-8fa6-4e9c-a81c-2a107355a49d",
   "metadata": {},
   "source": [
    "### 2. what are the two tuple methods in python? give an example of each method. give a reason why tuples have only two built in methods as compared to lists."
   ]
  },
  {
   "cell_type": "markdown",
   "id": "792ee174-5058-48a1-8b31-61fa1b0b5911",
   "metadata": {},
   "source": [
    "#### 2nd question answer:-\n",
    "In Python, there are two built-in methods for tuples:\n",
    "\n",
    "* count(): This method returns the number of occurrences of a specified value in a tuple.\n",
    "\n",
    "Example: \n",
    "\n",
    "    my_tuple = (1, 2, 3, 1, 4, 1)\n",
    "    \n",
    "     count = my_tuple.count(1)\n",
    "     \n",
    "      print(count) \n",
    "      \n",
    "* index(): This method returns the index of the first occurrence of a specified value in a tuple. If the specified value is not found, it raises a ValueError.\n",
    "\n",
    "Example:\n",
    "\n",
    "     my_tuple = (1, 2, 3, 1, 4, 1)\n",
    "     \n",
    "     index = my_tuple.index(4)\n",
    "     \n",
    "     print(index)   \n",
    "     \n",
    "The reason tuples have only two built-in methods compared to lists is that tuples are immutable, so there is no need for methods that modify the tuple like append(), insert(), or remove(). The count() and index() methods are sufficient for working with tuples since they provide functionality for accessing and searching the elements of a tuple. Additionally, tuples are often used in situations where immutability is desired, such as for representing fixed collections of data or as keys in dictionaries, so the lack of methods for modifying tuples is not a limitation in most cases."
   ]
  },
  {
   "cell_type": "code",
   "execution_count": null,
   "id": "c45e4221-4da7-4199-94a5-c2e343b4b2d5",
   "metadata": {},
   "outputs": [],
   "source": []
  },
  {
   "cell_type": "markdown",
   "id": "85547b75-c9ca-4858-ad03-3c2d637fd72b",
   "metadata": {},
   "source": [
    "### 3. which collection data types in python do not allow duplicate items? write a code using a set to remove duplicates from the given list.\n",
    "    * list=[1,1,1,2,1,2,1,4,2,1,2,2,2,3,2,4,3,1,3,2,3,3,3,4,4,1,4,2,4,3,4,4]"
   ]
  },
  {
   "cell_type": "code",
   "execution_count": 2,
   "id": "76098531-7028-44bf-bb70-b863d1aff292",
   "metadata": {},
   "outputs": [
    {
     "name": "stdout",
     "output_type": "stream",
     "text": [
      "[1, 2, 3, 4]\n"
     ]
    }
   ],
   "source": [
    "#The collection data type in Python that does not allow duplicate items is a set. Here's an example code using a set to remove duplicates from the given list:\n",
    "my_list = [1, 1, 1, 2, 1, 2, 1, 4, 2, 1, 2, 2, 2, 3, 2, 4, 3, 1, 3, 2, 3, 3, 3, 4, 4, 1, 4, 2, 4, 3, 4, 4]\n",
    "\n",
    "my_set = set(my_list)\n",
    "result_list = list(my_set)\n",
    "\n",
    "print(result_list)\n"
   ]
  },
  {
   "cell_type": "code",
   "execution_count": null,
   "id": "5b50c943-3a7a-4adc-a451-623910a6d96e",
   "metadata": {},
   "outputs": [],
   "source": []
  },
  {
   "cell_type": "markdown",
   "id": "f01101e5-2847-49a3-8b10-3b02ddbabb40",
   "metadata": {},
   "source": [
    "### 4.Explain the difference between the union() and update() methods for a set. give an example of each method. "
   ]
  },
  {
   "cell_type": "markdown",
   "id": "7dd2c589-69e1-4d7c-96bf-11d48cd7bfb1",
   "metadata": {},
   "source": [
    "In Python, both union() and update() are methods of a set, but they differ in their functionality.\n",
    "\n",
    "* The union() method returns a new set containing all the unique elements from two or more sets. It does not modify the original sets.\n",
    "\n",
    " example:\n",
    "        \n",
    "        set1 = {1, 2, 3}\n",
    "set2 = {2, 3, 4}\n",
    "set3 = {3, 4, 5}\n",
    "\n",
    "new_set = set1.union(set2, set3)\n",
    "\n",
    "print(new_set)  \n",
    " \n",
    "* The update() method modifies the original set by adding all the unique elements from another set or an iterable object like a list or tuple.\n",
    "\n",
    " example:\n",
    "        \n",
    "        set1 = {1, 2, 3}\n",
    "set2 = {2, 3, 4}\n",
    "\n",
    "set1.update(set2)\n",
    "\n",
    "print(set1)  # Output: {1, 2, 3, 4}\n",
    "\n",
    "* To summarize, the union() method returns a new set, while the update() method modifies the original set."
   ]
  },
  {
   "cell_type": "code",
   "execution_count": null,
   "id": "0cd9ab5e-4b0f-41fc-b199-40849012ee9c",
   "metadata": {},
   "outputs": [],
   "source": []
  },
  {
   "cell_type": "markdown",
   "id": "fa1ef68c-23db-4847-8b72-14e9c4139692",
   "metadata": {},
   "source": [
    "### 5. What is a dictionary? give an example. Also,state whether a dictionary is ordered or unordered."
   ]
  },
  {
   "cell_type": "markdown",
   "id": "da94383d-f826-4a86-812f-5c44837262c8",
   "metadata": {},
   "source": [
    "* In computer science, a dictionary is an abstract data type that represents a collection of key-value pairs, where each key is unique and associated with a specific value.\n",
    "* It is also known as an associative array, map, or hash table in different programming languages.\n",
    "* In Python, a dictionary is a built-in data type that is represented with curly braces {} and consists of comma-separated key-value pairs. \n",
    "\n",
    "Here is an example: \n",
    "     my_dict = {'apple': 2, 'banana': 3, 'orange': 1}\n",
    "\n",
    "In this example, my_dict is a dictionary that contains three key-value pairs. The keys are strings ('apple', 'banana', 'orange') and the values are integers (2, 3, 1).\n",
    "\n",
    "* Dictionaries in Python are unordered, meaning that the order of elements is not fixed or guaranteed. \n",
    "* However, starting from Python 3.7, the order of elements in a dictionary is guaranteed to be insertion order.\n",
    "* This means that elements will be maintained in the order they were added to the dictionary.\n"
   ]
  },
  {
   "cell_type": "code",
   "execution_count": null,
   "id": "0d26f2ea-8229-4718-a70c-2989a6bf8529",
   "metadata": {},
   "outputs": [],
   "source": []
  },
  {
   "cell_type": "markdown",
   "id": "ae5d987d-773f-423e-a7c7-7591cf0409d0",
   "metadata": {},
   "source": [
    "### 6. Can we create a nested dictionary?If so, please give an example by creating a simple one level nested dictionary."
   ]
  },
  {
   "cell_type": "markdown",
   "id": "b0b24c6f-5c18-42f8-8a8d-cb5e22a38c3c",
   "metadata": {},
   "source": [
    "* Yes, we can create a nested dictionary in Python.\n",
    "* Here is an example of a simple one level nested dictionary:\n",
    "    #### Creating a nested dictionary\n",
    "    \n",
    "person =\n",
    "{\n",
    "    \"name\": \"John\",\n",
    "    \n",
    "   \n",
    "    \"age\": 30,\n",
    "    \n",
    "    \"address\": {\n",
    "    \n",
    "        \"street\": \"123 Main St\",\n",
    "        \n",
    "        \"city\": \"New York\",\n",
    "        \n",
    "        \"state\": \"NY\",\n",
    "        \n",
    "        \"zip\": \"10001\"\n",
    "    }\n",
    "}\n",
    "\n",
    "#### Accessing values in the nested dictionary\n",
    "\n",
    "print(person[\"name\"]) # Output: John\n",
    "\n",
    "print(person[\"address\"][\"city\"]) # Output: New York\n",
    "\n",
    "\n"
   ]
  },
  {
   "cell_type": "code",
   "execution_count": null,
   "id": "3d62e4d9-4559-4c78-bed9-91118fe1f2b7",
   "metadata": {},
   "outputs": [],
   "source": []
  },
  {
   "cell_type": "markdown",
   "id": "e1096e40-738c-4529-99a6-6fe87af8c0ff",
   "metadata": {},
   "source": [
    "### 7. Using set default() method, create key named topics in the given dictionary and also add the value of the key as this list['python','machine learning','deep learning']\n",
    "dict1={'language':'python','course':'Data sciencemasters'}"
   ]
  },
  {
   "cell_type": "markdown",
   "id": "6444d003-560b-4e51-97f8-883d7f9dbda0",
   "metadata": {},
   "source": [
    "* Here's the code to add a new key 'topics' with the value ['python', 'machine learning', 'deep learning'] to the dictionary 'dict1' using the setdefault() method:\n",
    "\n",
    "dict1 = {'language': 'python', 'course': 'Data sciencemasters'}\n",
    "\n",
    "dict1.setdefault('topics', ['python', 'machine learning', 'deep learning'])\n",
    "\n",
    "* After executing this code, the dictionary 'dict1' will be updated with the new key 'topics':\n",
    "    \n",
    "    {'language': 'python', 'course': 'Data sciencemasters', 'topics': ['python', 'machine learning', 'deep learning']}\n"
   ]
  },
  {
   "cell_type": "code",
   "execution_count": null,
   "id": "af116d6d-0ceb-47f8-969b-3f65bf12f35d",
   "metadata": {},
   "outputs": [],
   "source": []
  },
  {
   "cell_type": "markdown",
   "id": "89cb2e02-313c-4467-8ce8-e9420a003327",
   "metadata": {},
   "source": [
    "### 8. what are the three view objects in dictionaries? use the three in-built methods in python to display these three view objects for the given dictionary.\n",
    "     dict1={'sport':'cricket','teams':['India','australia','england','south africa','sri lanka','new zealand']}"
   ]
  },
  {
   "cell_type": "markdown",
   "id": "0a33c541-9338-4279-bbd6-0c3b26db9a71",
   "metadata": {},
   "source": [
    "#### answer:-\n",
    "* In Python, dictionaries have three view objects that provide dynamic views of the dictionary's keys, values, and key-value pairs:\n",
    "\n",
    "* dict.keys() - returns a dynamic view of the dictionary's keys\n",
    "* dict.values() - returns a dynamic view of the dictionary's values\n",
    "* dict.items() - returns a dynamic view of the dictionary's key-value pairs\n",
    "* Here's how you can display these view objects for the given dictionary:"
   ]
  },
  {
   "cell_type": "code",
   "execution_count": 4,
   "id": "47f7e962-9424-4631-b260-6cb44edfa4ce",
   "metadata": {},
   "outputs": [
    {
     "name": "stdout",
     "output_type": "stream",
     "text": [
      "dict_keys(['sport', 'teams'])\n",
      "dict_values(['cricket', ['India', 'australia', 'england', 'south africa', 'sri lanka', 'new zealand']])\n",
      "dict_items([('sport', 'cricket'), ('teams', ['India', 'australia', 'england', 'south africa', 'sri lanka', 'new zealand'])])\n"
     ]
    }
   ],
   "source": [
    "#code:-\n",
    "dict1 = {'sport': 'cricket', 'teams': ['India', 'australia', 'england', 'south africa', 'sri lanka', 'new zealand']}\n",
    "\n",
    "# display the keys view object\n",
    "print(dict1.keys())\n",
    "\n",
    "# display the values view object\n",
    "print(dict1.values())\n",
    "\n",
    "# display the items view object\n",
    "print(dict1.items())\n"
   ]
  },
  {
   "cell_type": "code",
   "execution_count": null,
   "id": "f1cd5ad2-ddc9-4b41-af98-440b9c44faaa",
   "metadata": {},
   "outputs": [],
   "source": []
  }
 ],
 "metadata": {
  "kernelspec": {
   "display_name": "Python 3 (ipykernel)",
   "language": "python",
   "name": "python3"
  },
  "language_info": {
   "codemirror_mode": {
    "name": "ipython",
    "version": 3
   },
   "file_extension": ".py",
   "mimetype": "text/x-python",
   "name": "python",
   "nbconvert_exporter": "python",
   "pygments_lexer": "ipython3",
   "version": "3.10.8"
  }
 },
 "nbformat": 4,
 "nbformat_minor": 5
}
