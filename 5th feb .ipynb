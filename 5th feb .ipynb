{
 "cells": [
  {
   "cell_type": "markdown",
   "id": "45d773ff-2953-4a66-a7e7-3cc3cf3951de",
   "metadata": {},
   "source": [
    "### Q1. Explain Class and Object with respect to Object-Oriented Programming. Give a suitable example."
   ]
  },
  {
   "cell_type": "markdown",
   "id": "104e1eb6-31df-460a-9bd9-b2fc22cbc2fa",
   "metadata": {},
   "source": [
    "### ANS:-"
   ]
  },
  {
   "cell_type": "markdown",
   "id": "092f9e34-fdd0-46a2-b0f1-ffe1f1705998",
   "metadata": {},
   "source": [
    "In object-oriented programming (OOP), a class is a blueprint or template that defines the structure and behavior of objects. It serves as a blueprint for creating instances, also known as objects, which are used to represent real-world entities and manipulate data using the defined properties and behaviors. A class encapsulates data (in the form of properties or attributes) and behavior (in the form of methods or functions) into a single unit.\n",
    "\n",
    "An object, on the other hand, is an instance of a class. It is a specific occurrence of a class, created based on the blueprint provided by the class. An object represents a unique entity with its own state and behavior, and it can interact with other objects and perform operations based on the methods defined in its class."
   ]
  },
  {
   "cell_type": "code",
   "execution_count": 1,
   "id": "54a863ee-1dc1-4761-b732-de68f2fdee30",
   "metadata": {},
   "outputs": [
    {
     "name": "stdout",
     "output_type": "stream",
     "text": [
      "Name: Buddy\n",
      "Age: 3\n",
      "Woof!\n"
     ]
    }
   ],
   "source": [
    "class Dog:\n",
    "    def __init__(self, name, age):\n",
    "        self.name = name\n",
    "        self.age = age\n",
    "\n",
    "    def bark(self):\n",
    "        print(\"Woof!\")\n",
    "\n",
    "my_dog = Dog(\"Buddy\", 3)\n",
    "\n",
    "print(\"Name:\", my_dog.name)\n",
    "print(\"Age:\", my_dog.age)\n",
    "\n",
    "my_dog.bark()\n"
   ]
  },
  {
   "cell_type": "code",
   "execution_count": null,
   "id": "a0384995-c817-4de4-a1aa-0f062589e6e8",
   "metadata": {},
   "outputs": [],
   "source": []
  },
  {
   "cell_type": "markdown",
   "id": "5c486e41-e82d-4be2-b8c7-9df29f491d3c",
   "metadata": {},
   "source": [
    "### Q2. Name the four pillars of OOPs."
   ]
  },
  {
   "cell_type": "markdown",
   "id": "7428dc23-a492-495d-9f53-885308088fae",
   "metadata": {},
   "source": [
    "### ans:-"
   ]
  },
  {
   "cell_type": "markdown",
   "id": "d869d69e-054f-484a-86a3-419957bd9b83",
   "metadata": {},
   "source": [
    "The four pillars of OOPS are Inheritance, Polymorphism, Encapsulation and Abstraction. Object-oriented programming mainly focuses on objects which might be required to be manipulated. In OOPs, it may represent data as objects with attributes and functions."
   ]
  },
  {
   "cell_type": "code",
   "execution_count": null,
   "id": "2505b464-dd66-4477-b3be-1aa39f7f8242",
   "metadata": {},
   "outputs": [],
   "source": []
  },
  {
   "cell_type": "markdown",
   "id": "5f864b36-46c5-49d8-b655-3e78d7f6b43a",
   "metadata": {},
   "source": [
    "### Q3. Explain why the __init__() function is used. Give a suitable example."
   ]
  },
  {
   "cell_type": "markdown",
   "id": "b86e0753-8dec-4e3a-8147-7ecdc17fe961",
   "metadata": {},
   "source": [
    "### Ans:-"
   ]
  },
  {
   "cell_type": "markdown",
   "id": "9dabc511-e74a-4040-9ff7-d78ade0f3e36",
   "metadata": {},
   "source": [
    "__init__ is a special python method that runs whenever a new object is created. These types of functions are used to initialize the attributes of that class, E.g., if the class is Person, then the attributes will be name, age, etc."
   ]
  },
  {
   "cell_type": "code",
   "execution_count": 2,
   "id": "f0536fd4-5a69-4e66-8cfa-409ec6839f3c",
   "metadata": {},
   "outputs": [
    {
     "name": "stdout",
     "output_type": "stream",
     "text": [
      "I ran first\n",
      "I ran second\n",
      "Name: Audi R8\n"
     ]
    }
   ],
   "source": [
    "class Car:\n",
    "    def __init__(self, name):\n",
    "        self.name = name\n",
    "        print(\"I ran first\")\n",
    " \n",
    "    def product(self):\n",
    "        print(\"I ran second\")\n",
    "        return (\"Name: \" + self.name)\n",
    " \n",
    " \n",
    "C = Car('Audi R8')\n",
    "print(C.product())\n"
   ]
  },
  {
   "cell_type": "code",
   "execution_count": null,
   "id": "d86d3da6-a1a6-4707-8645-43da537f4142",
   "metadata": {},
   "outputs": [],
   "source": []
  },
  {
   "cell_type": "markdown",
   "id": "639be382-b146-44e5-8e80-d21cb0f91ffd",
   "metadata": {},
   "source": [
    "### Q4. Why self is used in OOPs?"
   ]
  },
  {
   "cell_type": "markdown",
   "id": "9f524ce2-3216-49d1-8cfe-23bcf18be544",
   "metadata": {},
   "source": [
    "### ANS:-"
   ]
  },
  {
   "cell_type": "markdown",
   "id": "6fc58f43-8eb5-4ea3-a523-d598e718805c",
   "metadata": {},
   "source": [
    "The self parameter is a reference to the current instance of the class, and is used to access variables that belongs to the class.It does not have to be named self , you can call it whatever you like, but it has to be the first parameter of any function in the class"
   ]
  },
  {
   "cell_type": "markdown",
   "id": "a506200f-e598-40a0-a8f3-63dad3ddd77d",
   "metadata": {},
   "source": [
    "class pwskills1:\n",
    "    \n",
    "    def __init__(self,phone_number,email_id,student_id):\n",
    "        self.phone_number=phone_number\n",
    "        self.email_id=email_id\n",
    "        self.student_id=student_id\n",
    "    \n",
    "    def return_student_details(self):\n",
    "        return self.phone_number, self.email_id, self.student_id\n"
   ]
  },
  {
   "cell_type": "markdown",
   "id": "aa6d3a1e-8e46-4149-baf4-a4d9916bc39f",
   "metadata": {},
   "source": []
  },
  {
   "cell_type": "markdown",
   "id": "b0ab26a3-14db-43d6-9a09-f15264d2c6e7",
   "metadata": {},
   "source": [
    "### Q5. What is inheritance? Give an example for each type of inheritance."
   ]
  },
  {
   "cell_type": "markdown",
   "id": "62d29176-dcab-4681-9a19-132a64fd3617",
   "metadata": {},
   "source": [
    "### Ans:-"
   ]
  },
  {
   "cell_type": "markdown",
   "id": "3e88ef4c-64ae-48af-9740-f53940ea2267",
   "metadata": {},
   "source": [
    "Inheritance is a mechanism in which one class acquires the property of another class. For example, a child inherits the traits of his/her parents. With inheritance, we can reuse the fields and methods of the existing class."
   ]
  },
  {
   "cell_type": "markdown",
   "id": "cab0b7c6-7f69-4870-ba91-4b5f9c07135f",
   "metadata": {},
   "source": [
    "i) single inheritence:-The inheritance in which a single derived class is inherited from a single base class is known as the Single Inheritance"
   ]
  },
  {
   "cell_type": "code",
   "execution_count": 5,
   "id": "18bfc0f9-b6dd-4e31-a318-1a8fa1f3c0cb",
   "metadata": {},
   "outputs": [
    {
     "name": "stdout",
     "output_type": "stream",
     "text": [
      "Hey there, you are in the parent class\n",
      "Hey there, you are in the sub class\n",
      "Hey there, you are in the parent class\n",
      "10\n",
      "5\n"
     ]
    }
   ],
   "source": [
    "#parent class\n",
    "class Above:\n",
    "    i = 5\n",
    "    def fun1(self):\n",
    "        print(\"Hey there, you are in the parent class\")\n",
    "\n",
    "#subclass\n",
    "class Below(Above):\n",
    "    i=10\n",
    "    def fun2(self):\n",
    "        print(\"Hey there, you are in the sub class\")\n",
    "\n",
    "temp1=Below()\n",
    "temp2=Above()\n",
    "temp1.fun1()\n",
    "temp1.fun2()\n",
    "temp2.fun1()\n",
    "print(temp1.i)\n",
    "print(temp2.i)\n",
    "#temp2.fun2()"
   ]
  },
  {
   "cell_type": "code",
   "execution_count": null,
   "id": "97a086c4-c988-41da-acd7-f33ccd1b7677",
   "metadata": {},
   "outputs": [],
   "source": []
  },
  {
   "cell_type": "markdown",
   "id": "254e45a0-f922-47d7-8451-ea806cb8c3e9",
   "metadata": {},
   "source": [
    "ii)multiple inheritence:-Multiple inheritance is a feature of some object-oriented computer programming languages in which an object or class can inherit features from more than one parent object or parent class"
   ]
  },
  {
   "cell_type": "code",
   "execution_count": 6,
   "id": "5037e9dc-2f45-4397-9684-cf14e2e521d9",
   "metadata": {},
   "outputs": [
    {
     "name": "stdout",
     "output_type": "stream",
     "text": [
      "Hey there, you are in the child class\n",
      "first number is :  10\n",
      "second number is :  5\n"
     ]
    }
   ],
   "source": [
    "#parent class 1\n",
    "class A:\n",
    "    demo1=0\n",
    "    def fun1(self):\n",
    "        print(self.demo1)\n",
    "\n",
    "#parent class 2\n",
    "class B:\n",
    "    demo2=0\n",
    "    def fun2(self):\n",
    "        print(self.demo2)\n",
    "\n",
    "#child class\n",
    "class C(A, B):\n",
    "    def fun3(self):\n",
    "        print(\"Hey there, you are in the child class\")\n",
    "\n",
    "# Main code\n",
    "c = C()\n",
    "c.demo1 = 10\n",
    "c.demo2 = 5\n",
    "c.fun3()\n",
    "print(\"first number is : \",c.demo1)\n",
    "print(\"second number is : \",c.demo2)"
   ]
  },
  {
   "cell_type": "code",
   "execution_count": null,
   "id": "b21c0745-dd47-4810-a7c8-ef19355aaf23",
   "metadata": {},
   "outputs": [],
   "source": []
  },
  {
   "cell_type": "markdown",
   "id": "c81a2e43-5b61-4b7e-8b68-c2515c49a938",
   "metadata": {},
   "source": [
    "iii)multi level inheritence:- Multilevel Inheritance in Python is a type of Inheritance that involves inheriting a class that has already inherited some other class. That means the derived/subclass class inherits the features of the base class/parent class, and the new derived class inherits the features of the derived class."
   ]
  },
  {
   "cell_type": "code",
   "execution_count": 7,
   "id": "cc5cb2a9-d8d3-4528-84fc-b674c559103c",
   "metadata": {},
   "outputs": [
    {
     "name": "stdout",
     "output_type": "stream",
     "text": [
      "electric car runs on electricity\n",
      "a car has 4 wheels\n",
      "vehicles are used for transportation\n"
     ]
    }
   ],
   "source": [
    "#parent class 1\n",
    "class vehicle:\n",
    "    def functioning(self):\n",
    "        print(\"vehicles are used for transportation\")\n",
    "\n",
    "#child class 1\n",
    "class car(vehicle):\n",
    "    def wheels(self):\n",
    "        print(\"a car has 4 wheels\")\n",
    "       \n",
    "#child class 2\n",
    "class electric_car(car):\n",
    "    def speciality(self):\n",
    "        print(\"electric car runs on electricity\")\n",
    "\n",
    "electric=electric_car()\n",
    "electric.speciality()\n",
    "electric.wheels()\n",
    "electric.functioning()"
   ]
  },
  {
   "cell_type": "code",
   "execution_count": null,
   "id": "499717c8-d263-4d6c-bec9-8484d398fae2",
   "metadata": {},
   "outputs": [],
   "source": []
  },
  {
   "cell_type": "markdown",
   "id": "3b503a51-254d-4e33-b7dd-44f5085e71f2",
   "metadata": {},
   "source": [
    "iv)hierarchial inheritence:- Hierarchical Inheritance If multiple derived classes are created from the same base, this kind of Inheritance is known as hierarchical inheritance. In this instance, we have two base classes as a parent (base) class as well as two children (derived) classes."
   ]
  },
  {
   "cell_type": "code",
   "execution_count": 8,
   "id": "20d2ce27-f5f8-4e18-8b2c-22254a037bfe",
   "metadata": {},
   "outputs": [
    {
     "name": "stdout",
     "output_type": "stream",
     "text": [
      "Hey there, you are in the parent class\n",
      "Hey there, you are in the child class 3\n",
      "Hey there, you are in the parent class\n",
      "Hey there, you are in the child class 2\n",
      "Hey there, you are in the parent class\n",
      "Hey there, you are in the child class 1\n"
     ]
    }
   ],
   "source": [
    "#parent class\n",
    "class Parent:\n",
    "    def fun1(self):\n",
    "        print(\"Hey there, you are in the parent class\")\n",
    " \n",
    "#child class 1\n",
    "class child1(Parent):\n",
    "    def fun2(self):\n",
    "        print(\"Hey there, you are in the child class 1\")\n",
    "\n",
    "#child class 2 \n",
    "class child2(Parent):\n",
    "    def fun3(self):\n",
    "        print(\"Hey there, you are in the child class 2\")\n",
    " \n",
    "#child class 3\n",
    "class child3(Parent):\n",
    "    def fun4(self):\n",
    "        print(\"Hey there, you are in the child class 3\")\n",
    " \n",
    "# main program\n",
    "child_obj1 = child3()\n",
    "child_obj2 = child2()\n",
    "child_obj3 = child1()\n",
    "child_obj1.fun1()\n",
    "child_obj1.fun4()\n",
    "child_obj2.fun1()\n",
    "child_obj2.fun3()\n",
    "child_obj3.fun1()\n",
    "child_obj3.fun2()"
   ]
  },
  {
   "cell_type": "code",
   "execution_count": null,
   "id": "91d840df-fecc-4996-a4dc-24d749f1429f",
   "metadata": {},
   "outputs": [],
   "source": []
  },
  {
   "cell_type": "markdown",
   "id": "00f06b9d-3881-4917-b00b-dcf9995baa8a",
   "metadata": {},
   "source": [
    "v)hybrid inheritence:-Hybrid Inheritance is a blend of more than one type of inheritance. The class is derived from the two classes as in the multiple inheritance. However, one of the parent classes is not the base class. "
   ]
  },
  {
   "cell_type": "code",
   "execution_count": 12,
   "id": "969af9c2-7ccd-4d39-a90d-9cd922b685df",
   "metadata": {},
   "outputs": [
    {
     "name": "stdout",
     "output_type": "stream",
     "text": [
      "Animal speaks\n",
      "Mammal walks\n",
      "Bat flies\n"
     ]
    }
   ],
   "source": [
    "# Parent class 1\n",
    "class Animal:\n",
    "    def speak(self):\n",
    "        print(\"Animal speaks\")\n",
    "\n",
    "# Parent class 2\n",
    "class Mammal:\n",
    "    def walk(self):\n",
    "        print(\"Mammal walks\")\n",
    "\n",
    "# Child class inheriting from Animal and Mammal\n",
    "class Bat(Animal, Mammal):\n",
    "    def fly(self):\n",
    "        print(\"Bat flies\")\n",
    "\n",
    "# Creating an object of the Bat class\n",
    "my_bat = Bat()\n",
    "\n",
    "# Calling methods on the object\n",
    "my_bat.speak()  # Output: \"Animal speaks\"\n",
    "my_bat.walk()  # Output: \"Mammal walks\"\n",
    "my_bat.fly()  # Output: \"Bat flies\"\n"
   ]
  },
  {
   "cell_type": "code",
   "execution_count": null,
   "id": "97bd6c8c-9c32-4b0e-8fd2-b547a52b1558",
   "metadata": {},
   "outputs": [],
   "source": []
  }
 ],
 "metadata": {
  "kernelspec": {
   "display_name": "Python 3 (ipykernel)",
   "language": "python",
   "name": "python3"
  },
  "language_info": {
   "codemirror_mode": {
    "name": "ipython",
    "version": 3
   },
   "file_extension": ".py",
   "mimetype": "text/x-python",
   "name": "python",
   "nbconvert_exporter": "python",
   "pygments_lexer": "ipython3",
   "version": "3.10.8"
  }
 },
 "nbformat": 4,
 "nbformat_minor": 5
}
