{
 "cells": [
  {
   "cell_type": "markdown",
   "id": "d5d007af-e821-446f-9064-e74e6c464a1e",
   "metadata": {},
   "source": [
    "# python task(6 feb)"
   ]
  },
  {
   "cell_type": "code",
   "execution_count": null,
   "id": "20bd05e7-4795-4c2c-9e7a-e603aef97882",
   "metadata": {},
   "outputs": [],
   "source": []
  },
  {
   "cell_type": "markdown",
   "id": "b7776630-e6e8-433f-898f-038e4b5f15c7",
   "metadata": {},
   "source": [
    "## Q1 ANS:-"
   ]
  },
  {
   "cell_type": "code",
   "execution_count": 7,
   "id": "a997c3b5-860a-4c10-a6fe-5f9c6f73fcc6",
   "metadata": {},
   "outputs": [],
   "source": [
    "def product_of_numbers(lst):\n",
    "    flat_list = []\n",
    "    def flatten(lst):\n",
    "        for item in lst:\n",
    "            if isinstance(item, (list, tuple, set)):\n",
    "                flatten(item)\n",
    "            elif isinstance(item, dict):\n",
    "                flatten(item.keys())\n",
    "                flatten(item.values())\n",
    "            else:\n",
    "                flat_list.append(item)\n",
    "    flatten(lst)\n",
    "    product = 1\n",
    "    for num in flat_list:\n",
    "        if isinstance(num, (int, float, bool)):\n",
    "            product *= num\n",
    "        elif isinstance(num, str):\n",
    "            if num.isdigit():  # check if string can be converted to an integer\n",
    "                product *= int(num)\n",
    "    return product\n"
   ]
  },
  {
   "cell_type": "code",
   "execution_count": 8,
   "id": "0e971242-1083-405f-a9d7-54076584baf0",
   "metadata": {},
   "outputs": [
    {
     "name": "stdout",
     "output_type": "stream",
     "text": [
      "Product of all numbers in the list: 0\n"
     ]
    }
   ],
   "source": [
    "list1 = [1,2,3,4, [44,55,66, True], False, (34,56,78,89,34), {1,2,3,3,2,1}, {1:34, \"key2\": [55, 67, 78, 89], 4: (45, 22, 61, 34)}, [56, 'data science'], 'Machine Learning']\n",
    "result = product_of_numbers(list1)\n",
    "print(\"Product of all numbers in the list:\", result)\n"
   ]
  },
  {
   "cell_type": "code",
   "execution_count": null,
   "id": "d97afd07-72c4-4df8-bc35-5404cdbd60df",
   "metadata": {},
   "outputs": [],
   "source": []
  },
  {
   "cell_type": "markdown",
   "id": "9d92228d-2a6c-44fa-961a-0279fa88d7f2",
   "metadata": {},
   "source": [
    "## Q2 ANS:-"
   ]
  },
  {
   "cell_type": "code",
   "execution_count": 10,
   "id": "0f31446a-12a7-421d-b0c3-24093bd944d3",
   "metadata": {},
   "outputs": [],
   "source": [
    "def encrypt_message(message):\n",
    "    encrypted_message = ''\n",
    "    message = message.lower()  # Convert to lowercase\n",
    "\n",
    "    for char in message:\n",
    "        if char.isalpha():  # Check if the character is an alphabet\n",
    "            encrypted_char = chr(ord('a') + (ord('z') - ord(char)))  # Encrypt the character\n",
    "            encrypted_message += encrypted_char\n",
    "        elif char == ' ':  # Replace whitespace with dollar sign\n",
    "            encrypted_message += '$'\n",
    "        else:\n",
    "            encrypted_message += char  # Keep punctuation marks unchanged\n",
    "\n",
    "    return encrypted_message\n",
    "\n",
    "\n",
    "\n"
   ]
  },
  {
   "cell_type": "code",
   "execution_count": null,
   "id": "bde82cf9-e15e-4dd5-b26b-03d086115718",
   "metadata": {},
   "outputs": [],
   "source": []
  }
 ],
 "metadata": {
  "kernelspec": {
   "display_name": "Python 3 (ipykernel)",
   "language": "python",
   "name": "python3"
  },
  "language_info": {
   "codemirror_mode": {
    "name": "ipython",
    "version": 3
   },
   "file_extension": ".py",
   "mimetype": "text/x-python",
   "name": "python",
   "nbconvert_exporter": "python",
   "pygments_lexer": "ipython3",
   "version": "3.10.8"
  }
 },
 "nbformat": 4,
 "nbformat_minor": 5
}
