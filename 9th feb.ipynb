{
 "cells": [
  {
   "cell_type": "markdown",
   "id": "07cfb5c0-36e1-45bd-bc7b-33f79f6f288b",
   "metadata": {},
   "source": [
    "# 9th feb"
   ]
  },
  {
   "cell_type": "code",
   "execution_count": null,
   "id": "0fe4727a-4dea-4606-8743-357388fd8974",
   "metadata": {},
   "outputs": [],
   "source": []
  },
  {
   "cell_type": "markdown",
   "id": "01af01d7-56ba-4c29-9311-858c8d008c36",
   "metadata": {},
   "source": [
    "### Q1 ANS:-"
   ]
  },
  {
   "cell_type": "code",
   "execution_count": 1,
   "id": "668a830f-bfae-4849-86a3-ef63b4ddd06e",
   "metadata": {},
   "outputs": [],
   "source": [
    "class Vehicle:\n",
    "    def __init__(self, name_of_vehicle, max_speed, average_of_vehicle):\n",
    "        self.name_of_vehicle = name_of_vehicle\n",
    "        self.max_speed = max_speed\n",
    "        self.average_of_vehicle = average_of_vehicle\n"
   ]
  },
  {
   "cell_type": "code",
   "execution_count": 2,
   "id": "df289965-5859-4261-bcf1-f2e1b6ec2200",
   "metadata": {},
   "outputs": [
    {
     "name": "stdout",
     "output_type": "stream",
     "text": [
      "Toyota Camry\n",
      "120\n",
      "25\n"
     ]
    }
   ],
   "source": [
    "car = Vehicle(\"Toyota Camry\", 120, 25)\n",
    "print(car.name_of_vehicle)        \n",
    "print(car.max_speed)              \n",
    "print(car.average_of_vehicle)     "
   ]
  },
  {
   "cell_type": "code",
   "execution_count": null,
   "id": "220c5b33-3a89-4746-99ae-c60e6a042e6c",
   "metadata": {},
   "outputs": [],
   "source": []
  },
  {
   "cell_type": "markdown",
   "id": "5e10485b-d8f6-4b9d-993e-594591aec68c",
   "metadata": {},
   "source": [
    "## Q2 ANS :-"
   ]
  },
  {
   "cell_type": "code",
   "execution_count": 3,
   "id": "d2657df3-5ecb-433a-a881-ec8fc19fe568",
   "metadata": {},
   "outputs": [],
   "source": [
    "class Car(Vehicle):\n",
    "    def __init__(self, name_of_vehicle, max_speed, average_of_vehicle):\n",
    "        super().__init__(name_of_vehicle, max_speed, average_of_vehicle)\n",
    "\n",
    "    def seating_capacity(self, capacity):\n",
    "        return f\"{self.name_of_vehicle} has a seating capacity of {capacity} persons.\"\n"
   ]
  },
  {
   "cell_type": "code",
   "execution_count": 4,
   "id": "072e25c9-ce73-4d54-a45a-02ccf300f014",
   "metadata": {},
   "outputs": [
    {
     "name": "stdout",
     "output_type": "stream",
     "text": [
      "Toyota Camry has a seating capacity of 5 persons.\n"
     ]
    }
   ],
   "source": [
    "car = Car(\"Toyota Camry\", 120, 25)\n",
    "print(car.seating_capacity(5))     "
   ]
  },
  {
   "cell_type": "code",
   "execution_count": 5,
   "id": "bca1d86a-a128-4fc8-9bc2-fc91cf66188f",
   "metadata": {},
   "outputs": [
    {
     "name": "stdout",
     "output_type": "stream",
     "text": [
      "Toyota Camry has a seating capacity of 8 persons.\n"
     ]
    }
   ],
   "source": [
    "car = Car(\"Toyota Camry\", 120, 25)\n",
    "print(car.seating_capacity(8))     "
   ]
  },
  {
   "cell_type": "code",
   "execution_count": null,
   "id": "defea52f-1029-4bcc-aee0-53b444b9f64a",
   "metadata": {},
   "outputs": [],
   "source": []
  },
  {
   "cell_type": "markdown",
   "id": "7ab8123c-13e1-47d9-b64c-cd5de49a38aa",
   "metadata": {},
   "source": [
    "## Q3 ANS:-"
   ]
  },
  {
   "cell_type": "markdown",
   "id": "b797d971-a3be-4803-9ad9-9ae90216956f",
   "metadata": {},
   "source": [
    "Multiple inheritance is a feature in object-oriented programming where a class can inherit from multiple parent classes. This allows a child class to have access to the methods and attributes of all of its parent classes."
   ]
  },
  {
   "cell_type": "code",
   "execution_count": 6,
   "id": "5723c86f-370c-4a81-9bab-f4d1fd0b3a01",
   "metadata": {},
   "outputs": [
    {
     "name": "stdout",
     "output_type": "stream",
     "text": [
      "Method A from class A\n",
      "Method B from class B\n",
      "Method C from class C\n"
     ]
    }
   ],
   "source": [
    "class A:\n",
    "    def method_a(self):\n",
    "        print(\"Method A from class A\")\n",
    "\n",
    "class B:\n",
    "    def method_b(self):\n",
    "        print(\"Method B from class B\")\n",
    "\n",
    "class C(A, B):\n",
    "    def method_c(self):\n",
    "        print(\"Method C from class C\")\n",
    "\n",
    "obj = C()\n",
    "obj.method_a()  # Output: \"Method A from class A\"\n",
    "obj.method_b()  # Output: \"Method B from class B\"\n",
    "obj.method_c()  # Output: \"Method C from class C\"\n"
   ]
  },
  {
   "cell_type": "code",
   "execution_count": null,
   "id": "85b85f4f-e89e-4ccd-8a84-cc37bc928592",
   "metadata": {},
   "outputs": [],
   "source": []
  },
  {
   "cell_type": "markdown",
   "id": "4ac46b36-8caa-4214-b83c-37ba85c9e7ba",
   "metadata": {},
   "source": [
    "## Q4 ANS:-"
   ]
  },
  {
   "cell_type": "markdown",
   "id": "41387d4b-38fb-41c2-8c1c-14a4a718547f",
   "metadata": {},
   "source": [
    "Getter and setter are methods in Python that allow us to get and set the value of an instance variable respectively. They provide a way to encapsulate data by controlling access to the variables in a class."
   ]
  },
  {
   "cell_type": "code",
   "execution_count": 7,
   "id": "1d47b474-a3d1-4c63-9b71-fc0da6af23b5",
   "metadata": {},
   "outputs": [],
   "source": [
    "class Person:\n",
    "    def __init__(self, name):\n",
    "        self._name = name\n",
    "\n",
    "    def get_name(self):\n",
    "        return self._name\n",
    "\n",
    "    def set_name(self, name):\n",
    "        self._name = name\n"
   ]
  },
  {
   "cell_type": "code",
   "execution_count": 8,
   "id": "375ffff0-5fef-4789-879e-cd0987922538",
   "metadata": {},
   "outputs": [
    {
     "name": "stdout",
     "output_type": "stream",
     "text": [
      "John\n",
      "Jane\n"
     ]
    }
   ],
   "source": [
    "person = Person(\"John\")\n",
    "print(person.get_name())   \n",
    "\n",
    "person.set_name(\"Jane\")\n",
    "print(person.get_name())    \n"
   ]
  },
  {
   "cell_type": "code",
   "execution_count": null,
   "id": "b57d2c8c-f56a-47a7-a3cd-a1b347ba25ae",
   "metadata": {},
   "outputs": [],
   "source": []
  },
  {
   "cell_type": "markdown",
   "id": "ce3d9b85-02e8-4ded-85f4-f4725a600e52",
   "metadata": {},
   "source": [
    "## Q5 ANS:-"
   ]
  },
  {
   "cell_type": "markdown",
   "id": "426b750a-9d92-42ed-80c3-3a1be60c04d6",
   "metadata": {},
   "source": [
    "Method overriding is a feature of object-oriented programming that allows a child class to provide its own implementation for a method that is already defined in its parent class. When a method is called on an instance of the child class, the child class's implementation of the method is executed instead of the parent class's implementation."
   ]
  },
  {
   "cell_type": "code",
   "execution_count": 9,
   "id": "7b5cfee5-517d-4e95-8882-4d59ecf77bdf",
   "metadata": {},
   "outputs": [
    {
     "name": "stdout",
     "output_type": "stream",
     "text": [
      "The animal makes a sound\n",
      "The dog barks\n",
      "The cat meows\n"
     ]
    }
   ],
   "source": [
    "class Animal:\n",
    "    def make_sound(self):\n",
    "        print(\"The animal makes a sound\")\n",
    "\n",
    "class Dog(Animal):\n",
    "    def make_sound(self):\n",
    "        print(\"The dog barks\")\n",
    "\n",
    "class Cat(Animal):\n",
    "    def make_sound(self):\n",
    "        print(\"The cat meows\")\n",
    "\n",
    "animal = Animal()\n",
    "animal.make_sound() \n",
    "dog = Dog()\n",
    "dog.make_sound()    \n",
    "cat = Cat()\n",
    "cat.make_sound()    "
   ]
  },
  {
   "cell_type": "code",
   "execution_count": null,
   "id": "c87edae3-4dd1-4e86-b1ec-a314677145b2",
   "metadata": {},
   "outputs": [],
   "source": []
  }
 ],
 "metadata": {
  "kernelspec": {
   "display_name": "Python 3 (ipykernel)",
   "language": "python",
   "name": "python3"
  },
  "language_info": {
   "codemirror_mode": {
    "name": "ipython",
    "version": 3
   },
   "file_extension": ".py",
   "mimetype": "text/x-python",
   "name": "python",
   "nbconvert_exporter": "python",
   "pygments_lexer": "ipython3",
   "version": "3.10.8"
  }
 },
 "nbformat": 4,
 "nbformat_minor": 5
}
